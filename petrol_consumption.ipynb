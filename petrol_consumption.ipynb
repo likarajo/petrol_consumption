{
 "cells": [
  {
   "cell_type": "markdown",
   "metadata": {},
   "source": [
    "## Import Dataset"
   ]
  },
  {
   "cell_type": "code",
   "execution_count": 1,
   "metadata": {},
   "outputs": [
    {
     "name": "stdout",
     "output_type": "stream",
     "text": [
      "48 records\n"
     ]
    },
    {
     "data": {
      "text/html": [
       "<div>\n",
       "<style scoped>\n",
       "    .dataframe tbody tr th:only-of-type {\n",
       "        vertical-align: middle;\n",
       "    }\n",
       "\n",
       "    .dataframe tbody tr th {\n",
       "        vertical-align: top;\n",
       "    }\n",
       "\n",
       "    .dataframe thead th {\n",
       "        text-align: right;\n",
       "    }\n",
       "</style>\n",
       "<table border=\"1\" class=\"dataframe\">\n",
       "  <thead>\n",
       "    <tr style=\"text-align: right;\">\n",
       "      <th></th>\n",
       "      <th>Petrol_tax</th>\n",
       "      <th>Average_income</th>\n",
       "      <th>Paved_Highways</th>\n",
       "      <th>Population_Driver_licence(%)</th>\n",
       "      <th>Petrol_Consumption</th>\n",
       "    </tr>\n",
       "  </thead>\n",
       "  <tbody>\n",
       "    <tr>\n",
       "      <th>0</th>\n",
       "      <td>9.0</td>\n",
       "      <td>3571</td>\n",
       "      <td>1976</td>\n",
       "      <td>0.525</td>\n",
       "      <td>541</td>\n",
       "    </tr>\n",
       "    <tr>\n",
       "      <th>1</th>\n",
       "      <td>9.0</td>\n",
       "      <td>4092</td>\n",
       "      <td>1250</td>\n",
       "      <td>0.572</td>\n",
       "      <td>524</td>\n",
       "    </tr>\n",
       "    <tr>\n",
       "      <th>2</th>\n",
       "      <td>9.0</td>\n",
       "      <td>3865</td>\n",
       "      <td>1586</td>\n",
       "      <td>0.580</td>\n",
       "      <td>561</td>\n",
       "    </tr>\n",
       "    <tr>\n",
       "      <th>3</th>\n",
       "      <td>7.5</td>\n",
       "      <td>4870</td>\n",
       "      <td>2351</td>\n",
       "      <td>0.529</td>\n",
       "      <td>414</td>\n",
       "    </tr>\n",
       "    <tr>\n",
       "      <th>4</th>\n",
       "      <td>8.0</td>\n",
       "      <td>4399</td>\n",
       "      <td>431</td>\n",
       "      <td>0.544</td>\n",
       "      <td>410</td>\n",
       "    </tr>\n",
       "  </tbody>\n",
       "</table>\n",
       "</div>"
      ],
      "text/plain": [
       "   Petrol_tax  Average_income  Paved_Highways  Population_Driver_licence(%)  \\\n",
       "0         9.0            3571            1976                         0.525   \n",
       "1         9.0            4092            1250                         0.572   \n",
       "2         9.0            3865            1586                         0.580   \n",
       "3         7.5            4870            2351                         0.529   \n",
       "4         8.0            4399             431                         0.544   \n",
       "\n",
       "   Petrol_Consumption  \n",
       "0                 541  \n",
       "1                 524  \n",
       "2                 561  \n",
       "3                 414  \n",
       "4                 410  "
      ]
     },
     "execution_count": 1,
     "metadata": {},
     "output_type": "execute_result"
    }
   ],
   "source": [
    "import pandas as pd\n",
    "\n",
    "data = pd.read_csv('data/petrol_consumption.csv')\n",
    "\n",
    "print(data.shape[0], 'records')\n",
    "data.head()"
   ]
  },
  {
   "cell_type": "markdown",
   "metadata": {},
   "source": [
    "## Data Preprocessing"
   ]
  },
  {
   "cell_type": "markdown",
   "metadata": {},
   "source": [
    "### Prepare features and labels\n",
    "* Features = Petrol_tax, Average_income, Paved_Highways, Population_Driver_licence(%)\n",
    "* Labels = Petrol_Consumption"
   ]
  },
  {
   "cell_type": "code",
   "execution_count": 2,
   "metadata": {},
   "outputs": [],
   "source": [
    "X = data.iloc[:, 0:4].values\n",
    "y = data.iloc[:, 4].values"
   ]
  },
  {
   "cell_type": "markdown",
   "metadata": {},
   "source": [
    "### Split data into training and test sets"
   ]
  },
  {
   "cell_type": "code",
   "execution_count": 3,
   "metadata": {},
   "outputs": [],
   "source": [
    "from sklearn.model_selection import train_test_split\n",
    "\n",
    "X_trn, X_tst, y_trn, y_tst = train_test_split(X, y, test_size=0.2, random_state=4)"
   ]
  },
  {
   "cell_type": "markdown",
   "metadata": {},
   "source": [
    "### Normalize the training and test features"
   ]
  },
  {
   "cell_type": "code",
   "execution_count": 4,
   "metadata": {},
   "outputs": [],
   "source": [
    "from sklearn.preprocessing import StandardScaler\n",
    "\n",
    "sc = StandardScaler()\n",
    "\n",
    "X_trn_norm = sc.fit_transform(X_trn)\n",
    "X_tst_norm = sc.transform(X_tst)"
   ]
  },
  {
   "cell_type": "markdown",
   "metadata": {},
   "source": [
    "## Create model\n",
    "* Using **Keras** functional API\n",
    "* Input layer\n",
    "* 3 Hidden Dense layers with 100, 50 and 25 neurons respoectively and ReLU activation function\n",
    "* Output with 1 neurons for 1 output value\n",
    "* Loss function = mean squared error\n",
    "* Optimizer = Adam\n",
    "* Evaluation metric = mean squared error"
   ]
  },
  {
   "cell_type": "code",
   "execution_count": 5,
   "metadata": {},
   "outputs": [
    {
     "name": "stdout",
     "output_type": "stream",
     "text": [
      "Model: \"model\"\n",
      "_________________________________________________________________\n",
      "Layer (type)                 Output Shape              Param #   \n",
      "=================================================================\n",
      "input_1 (InputLayer)         [(None, 4)]               0         \n",
      "_________________________________________________________________\n",
      "dense (Dense)                (None, 100)               500       \n",
      "_________________________________________________________________\n",
      "dense_1 (Dense)              (None, 50)                5050      \n",
      "_________________________________________________________________\n",
      "dense_2 (Dense)              (None, 25)                1275      \n",
      "_________________________________________________________________\n",
      "dense_3 (Dense)              (None, 1)                 26        \n",
      "=================================================================\n",
      "Total params: 6,851\n",
      "Trainable params: 6,851\n",
      "Non-trainable params: 0\n",
      "_________________________________________________________________\n",
      "None\n"
     ]
    }
   ],
   "source": [
    "from tensorflow.keras.layers import Input, Dense\n",
    "from tensorflow.keras.models import Model\n",
    "\n",
    "input_layer = Input(shape=(X.shape[1],))\n",
    "dense_layer_1 = Dense(100, activation='relu')(input_layer)\n",
    "dense_layer_2 = Dense(50, activation='relu')(dense_layer_1)\n",
    "dense_layer_3 = Dense(25, activation='relu')(dense_layer_2)\n",
    "output = Dense(1)(dense_layer_3)\n",
    "\n",
    "model = Model(inputs=input_layer, outputs=output)\n",
    "model.compile(loss='mean_squared_error', optimizer='adam', metrics=['mean_squared_error'])\n",
    "\n",
    "print(model.summary())"
   ]
  },
  {
   "cell_type": "markdown",
   "metadata": {},
   "source": [
    "## Train the model\n",
    "* Epochs = 100\n",
    "* Validation data = 20% of training data"
   ]
  },
  {
   "cell_type": "code",
   "execution_count": 6,
   "metadata": {},
   "outputs": [
    {
     "name": "stdout",
     "output_type": "stream",
     "text": [
      "Train on 30 samples, validate on 8 samples\n",
      "Epoch 1/100\n",
      "30/30 [==============================] - 1s 20ms/sample - loss: 346110.1302 - mean_squared_error: 346110.1250 - val_loss: 361759.9648 - val_mean_squared_error: 361759.9688\n",
      "Epoch 2/100\n",
      "30/30 [==============================] - 0s 1ms/sample - loss: 345292.7458 - mean_squared_error: 345292.7188 - val_loss: 360646.3086 - val_mean_squared_error: 360646.3125\n",
      "Epoch 3/100\n",
      "30/30 [==============================] - 0s 1ms/sample - loss: 343846.8302 - mean_squared_error: 343846.8438 - val_loss: 358790.8359 - val_mean_squared_error: 358790.8750\n",
      "Epoch 4/100\n",
      "30/30 [==============================] - 0s 1ms/sample - loss: 341299.4833 - mean_squared_error: 341299.5000 - val_loss: 355252.0859 - val_mean_squared_error: 355252.0625\n",
      "Epoch 5/100\n",
      "30/30 [==============================] - 0s 1ms/sample - loss: 335761.2573 - mean_squared_error: 335761.2812 - val_loss: 348306.5625 - val_mean_squared_error: 348306.5625\n",
      "Epoch 6/100\n",
      "30/30 [==============================] - 0s 1ms/sample - loss: 325541.9677 - mean_squared_error: 325541.9688 - val_loss: 335075.5000 - val_mean_squared_error: 335075.5000\n",
      "Epoch 7/100\n",
      "30/30 [==============================] - 0s 1ms/sample - loss: 305634.9635 - mean_squared_error: 305634.9688 - val_loss: 312199.6680 - val_mean_squared_error: 312199.6562\n",
      "Epoch 8/100\n",
      "30/30 [==============================] - 0s 2ms/sample - loss: 273778.8427 - mean_squared_error: 273778.8438 - val_loss: 277046.0000 - val_mean_squared_error: 277046.0000\n",
      "Epoch 9/100\n",
      "30/30 [==============================] - 0s 1ms/sample - loss: 226303.1885 - mean_squared_error: 226303.1875 - val_loss: 228183.4297 - val_mean_squared_error: 228183.4375\n",
      "Epoch 10/100\n",
      "30/30 [==============================] - 0s 2ms/sample - loss: 168967.8589 - mean_squared_error: 168967.8594 - val_loss: 170256.3770 - val_mean_squared_error: 170256.3750\n",
      "Epoch 11/100\n",
      "30/30 [==============================] - 0s 1ms/sample - loss: 103722.0193 - mean_squared_error: 103722.0156 - val_loss: 112849.5938 - val_mean_squared_error: 112849.5938\n",
      "Epoch 12/100\n",
      "30/30 [==============================] - 0s 2ms/sample - loss: 57060.2224 - mean_squared_error: 57060.2266 - val_loss: 66015.8418 - val_mean_squared_error: 66015.8438\n",
      "Epoch 13/100\n",
      "30/30 [==============================] - 0s 1ms/sample - loss: 31616.2551 - mean_squared_error: 31616.2578 - val_loss: 44211.5530 - val_mean_squared_error: 44211.5508\n",
      "Epoch 14/100\n",
      "30/30 [==============================] - 0s 1ms/sample - loss: 24030.4000 - mean_squared_error: 24030.4004 - val_loss: 35584.2791 - val_mean_squared_error: 35584.2812\n",
      "Epoch 15/100\n",
      "30/30 [==============================] - 0s 1ms/sample - loss: 22319.7818 - mean_squared_error: 22319.7832 - val_loss: 30533.2732 - val_mean_squared_error: 30533.2734\n",
      "Epoch 16/100\n",
      "30/30 [==============================] - 0s 1ms/sample - loss: 20028.3104 - mean_squared_error: 20028.3105 - val_loss: 28130.7621 - val_mean_squared_error: 28130.7617\n",
      "Epoch 17/100\n",
      "30/30 [==============================] - 0s 2ms/sample - loss: 18134.6958 - mean_squared_error: 18134.6953 - val_loss: 24492.4337 - val_mean_squared_error: 24492.4336\n",
      "Epoch 18/100\n",
      "30/30 [==============================] - 0s 1ms/sample - loss: 17115.3788 - mean_squared_error: 17115.3789 - val_loss: 23822.7541 - val_mean_squared_error: 23822.7539\n",
      "Epoch 19/100\n",
      "30/30 [==============================] - 0s 1ms/sample - loss: 15544.7183 - mean_squared_error: 15544.7188 - val_loss: 22577.2915 - val_mean_squared_error: 22577.2930\n",
      "Epoch 20/100\n",
      "30/30 [==============================] - 0s 1ms/sample - loss: 14582.6137 - mean_squared_error: 14582.6123 - val_loss: 20073.6313 - val_mean_squared_error: 20073.6309\n",
      "Epoch 21/100\n",
      "30/30 [==============================] - 0s 1ms/sample - loss: 13648.3055 - mean_squared_error: 13648.3057 - val_loss: 19288.9670 - val_mean_squared_error: 19288.9688\n",
      "Epoch 22/100\n",
      "30/30 [==============================] - 0s 1ms/sample - loss: 12859.6013 - mean_squared_error: 12859.6025 - val_loss: 18772.3549 - val_mean_squared_error: 18772.3555\n",
      "Epoch 23/100\n",
      "30/30 [==============================] - 0s 1ms/sample - loss: 12312.4413 - mean_squared_error: 12312.4414 - val_loss: 16717.6324 - val_mean_squared_error: 16717.6328\n",
      "Epoch 24/100\n",
      "30/30 [==============================] - 0s 953us/sample - loss: 11605.6532 - mean_squared_error: 11605.6533 - val_loss: 17130.8774 - val_mean_squared_error: 17130.8789\n",
      "Epoch 25/100\n",
      "30/30 [==============================] - 0s 1ms/sample - loss: 10938.5948 - mean_squared_error: 10938.5957 - val_loss: 16355.6122 - val_mean_squared_error: 16355.6123\n",
      "Epoch 26/100\n",
      "30/30 [==============================] - 0s 1ms/sample - loss: 10125.7204 - mean_squared_error: 10125.7207 - val_loss: 15163.7199 - val_mean_squared_error: 15163.7207\n",
      "Epoch 27/100\n",
      "30/30 [==============================] - 0s 1ms/sample - loss: 9701.9825 - mean_squared_error: 9701.9824 - val_loss: 15350.5672 - val_mean_squared_error: 15350.5664\n",
      "Epoch 28/100\n",
      "30/30 [==============================] - 0s 1ms/sample - loss: 9039.6117 - mean_squared_error: 9039.6113 - val_loss: 14947.2087 - val_mean_squared_error: 14947.2090\n",
      "Epoch 29/100\n",
      "30/30 [==============================] - 0s 1ms/sample - loss: 8580.7474 - mean_squared_error: 8580.7480 - val_loss: 14080.8444 - val_mean_squared_error: 14080.8438\n",
      "Epoch 30/100\n",
      "30/30 [==============================] - 0s 1ms/sample - loss: 8226.5185 - mean_squared_error: 8226.5186 - val_loss: 13628.6615 - val_mean_squared_error: 13628.6621\n",
      "Epoch 31/100\n",
      "30/30 [==============================] - 0s 1ms/sample - loss: 7970.1243 - mean_squared_error: 7970.1245 - val_loss: 14063.3401 - val_mean_squared_error: 14063.3398\n",
      "Epoch 32/100\n",
      "30/30 [==============================] - 0s 1ms/sample - loss: 7415.7662 - mean_squared_error: 7415.7656 - val_loss: 13542.3912 - val_mean_squared_error: 13542.3906\n",
      "Epoch 33/100\n",
      "30/30 [==============================] - 0s 1ms/sample - loss: 7675.7917 - mean_squared_error: 7675.7915 - val_loss: 12766.9756 - val_mean_squared_error: 12766.9756\n",
      "Epoch 34/100\n",
      "30/30 [==============================] - 0s 1ms/sample - loss: 6923.9906 - mean_squared_error: 6923.9907 - val_loss: 13595.3189 - val_mean_squared_error: 13595.3193\n",
      "Epoch 35/100\n",
      "30/30 [==============================] - 0s 1ms/sample - loss: 6532.0319 - mean_squared_error: 6532.0317 - val_loss: 13083.9326 - val_mean_squared_error: 13083.9326\n",
      "Epoch 36/100\n",
      "30/30 [==============================] - 0s 1ms/sample - loss: 6270.0720 - mean_squared_error: 6270.0723 - val_loss: 12757.9554 - val_mean_squared_error: 12757.9561\n",
      "Epoch 37/100\n",
      "30/30 [==============================] - 0s 1ms/sample - loss: 6017.5044 - mean_squared_error: 6017.5049 - val_loss: 12803.6261 - val_mean_squared_error: 12803.6260\n",
      "Epoch 38/100\n",
      "30/30 [==============================] - 0s 1ms/sample - loss: 5800.0285 - mean_squared_error: 5800.0293 - val_loss: 12056.3657 - val_mean_squared_error: 12056.3662\n",
      "Epoch 39/100\n",
      "30/30 [==============================] - 0s 1ms/sample - loss: 5600.8201 - mean_squared_error: 5600.8198 - val_loss: 12182.1687 - val_mean_squared_error: 12182.1680\n",
      "Epoch 40/100\n",
      "30/30 [==============================] - 0s 1ms/sample - loss: 5440.8688 - mean_squared_error: 5440.8687 - val_loss: 12624.7389 - val_mean_squared_error: 12624.7383\n",
      "Epoch 41/100\n",
      "30/30 [==============================] - 0s 1ms/sample - loss: 5404.9769 - mean_squared_error: 5404.9766 - val_loss: 12046.1950 - val_mean_squared_error: 12046.1953\n",
      "Epoch 42/100\n",
      "30/30 [==============================] - 0s 1ms/sample - loss: 5026.4622 - mean_squared_error: 5026.4619 - val_loss: 11830.3917 - val_mean_squared_error: 11830.3926\n",
      "Epoch 43/100\n",
      "30/30 [==============================] - 0s 1ms/sample - loss: 4829.1628 - mean_squared_error: 4829.1626 - val_loss: 11969.3992 - val_mean_squared_error: 11969.3984\n",
      "Epoch 44/100\n",
      "30/30 [==============================] - 0s 1ms/sample - loss: 4729.6122 - mean_squared_error: 4729.6118 - val_loss: 12395.2902 - val_mean_squared_error: 12395.2910\n",
      "Epoch 45/100\n",
      "30/30 [==============================] - 0s 1ms/sample - loss: 4454.2834 - mean_squared_error: 4454.2832 - val_loss: 12064.3355 - val_mean_squared_error: 12064.3350\n",
      "Epoch 46/100\n"
     ]
    },
    {
     "name": "stdout",
     "output_type": "stream",
     "text": [
      "30/30 [==============================] - 0s 1ms/sample - loss: 4390.1090 - mean_squared_error: 4390.1089 - val_loss: 11615.8042 - val_mean_squared_error: 11615.8037\n",
      "Epoch 47/100\n",
      "30/30 [==============================] - 0s 1ms/sample - loss: 4283.0003 - mean_squared_error: 4283.0010 - val_loss: 11866.6467 - val_mean_squared_error: 11866.6475\n",
      "Epoch 48/100\n",
      "30/30 [==============================] - 0s 1ms/sample - loss: 4169.3013 - mean_squared_error: 4169.3018 - val_loss: 11945.3122 - val_mean_squared_error: 11945.3125\n",
      "Epoch 49/100\n",
      "30/30 [==============================] - 0s 1ms/sample - loss: 4141.7262 - mean_squared_error: 4141.7261 - val_loss: 11536.3567 - val_mean_squared_error: 11536.3564\n",
      "Epoch 50/100\n",
      "30/30 [==============================] - 0s 1ms/sample - loss: 3982.7906 - mean_squared_error: 3982.7908 - val_loss: 12014.8016 - val_mean_squared_error: 12014.8008\n",
      "Epoch 51/100\n",
      "30/30 [==============================] - 0s 1ms/sample - loss: 3772.9433 - mean_squared_error: 3772.9436 - val_loss: 11566.8380 - val_mean_squared_error: 11566.8379\n",
      "Epoch 52/100\n",
      "30/30 [==============================] - 0s 1ms/sample - loss: 3778.0001 - mean_squared_error: 3778.0002 - val_loss: 11558.7792 - val_mean_squared_error: 11558.7793\n",
      "Epoch 53/100\n",
      "30/30 [==============================] - 0s 1ms/sample - loss: 3589.6259 - mean_squared_error: 3589.6260 - val_loss: 11759.2219 - val_mean_squared_error: 11759.2227\n",
      "Epoch 54/100\n",
      "30/30 [==============================] - 0s 1ms/sample - loss: 3547.4803 - mean_squared_error: 3547.4805 - val_loss: 12057.8858 - val_mean_squared_error: 12057.8857\n",
      "Epoch 55/100\n",
      "30/30 [==============================] - 0s 1ms/sample - loss: 3438.1029 - mean_squared_error: 3438.1028 - val_loss: 11505.8675 - val_mean_squared_error: 11505.8682\n",
      "Epoch 56/100\n",
      "30/30 [==============================] - 0s 974us/sample - loss: 3370.3917 - mean_squared_error: 3370.3921 - val_loss: 11602.7696 - val_mean_squared_error: 11602.7695\n",
      "Epoch 57/100\n",
      "30/30 [==============================] - 0s 1ms/sample - loss: 3372.1195 - mean_squared_error: 3372.1199 - val_loss: 12020.2449 - val_mean_squared_error: 12020.2451\n",
      "Epoch 58/100\n",
      "30/30 [==============================] - 0s 1ms/sample - loss: 3209.0346 - mean_squared_error: 3209.0347 - val_loss: 11497.9963 - val_mean_squared_error: 11497.9961\n",
      "Epoch 59/100\n",
      "30/30 [==============================] - 0s 1ms/sample - loss: 3148.2503 - mean_squared_error: 3148.2502 - val_loss: 11743.6929 - val_mean_squared_error: 11743.6934\n",
      "Epoch 60/100\n",
      "30/30 [==============================] - 0s 971us/sample - loss: 3096.2145 - mean_squared_error: 3096.2146 - val_loss: 11749.6380 - val_mean_squared_error: 11749.6377\n",
      "Epoch 61/100\n",
      "30/30 [==============================] - 0s 999us/sample - loss: 3037.5497 - mean_squared_error: 3037.5498 - val_loss: 12094.2492 - val_mean_squared_error: 12094.2490\n",
      "Epoch 62/100\n",
      "30/30 [==============================] - 0s 984us/sample - loss: 2965.5028 - mean_squared_error: 2965.5032 - val_loss: 11794.7341 - val_mean_squared_error: 11794.7344\n",
      "Epoch 63/100\n",
      "30/30 [==============================] - 0s 1ms/sample - loss: 2944.5166 - mean_squared_error: 2944.5164 - val_loss: 11824.6750 - val_mean_squared_error: 11824.6748\n",
      "Epoch 64/100\n",
      "30/30 [==============================] - 0s 1ms/sample - loss: 2865.7309 - mean_squared_error: 2865.7307 - val_loss: 11920.6293 - val_mean_squared_error: 11920.6299\n",
      "Epoch 65/100\n",
      "30/30 [==============================] - 0s 1ms/sample - loss: 2784.5151 - mean_squared_error: 2784.5156 - val_loss: 11984.4441 - val_mean_squared_error: 11984.4453\n",
      "Epoch 66/100\n",
      "30/30 [==============================] - 0s 1ms/sample - loss: 2787.1515 - mean_squared_error: 2787.1516 - val_loss: 11899.2566 - val_mean_squared_error: 11899.2568\n",
      "Epoch 67/100\n",
      "30/30 [==============================] - 0s 1ms/sample - loss: 2834.5170 - mean_squared_error: 2834.5171 - val_loss: 11610.8927 - val_mean_squared_error: 11610.8926\n",
      "Epoch 68/100\n",
      "30/30 [==============================] - 0s 1ms/sample - loss: 2673.8479 - mean_squared_error: 2673.8479 - val_loss: 12087.1946 - val_mean_squared_error: 12087.1953\n",
      "Epoch 69/100\n",
      "30/30 [==============================] - 0s 1ms/sample - loss: 2679.0503 - mean_squared_error: 2679.0505 - val_loss: 12123.7361 - val_mean_squared_error: 12123.7363\n",
      "Epoch 70/100\n",
      "30/30 [==============================] - 0s 1ms/sample - loss: 2615.9498 - mean_squared_error: 2615.9500 - val_loss: 12018.9113 - val_mean_squared_error: 12018.9121\n",
      "Epoch 71/100\n",
      "30/30 [==============================] - 0s 1ms/sample - loss: 2589.3010 - mean_squared_error: 2589.3010 - val_loss: 12149.7507 - val_mean_squared_error: 12149.7500\n",
      "Epoch 72/100\n",
      "30/30 [==============================] - 0s 970us/sample - loss: 2502.5285 - mean_squared_error: 2502.5288 - val_loss: 12184.3300 - val_mean_squared_error: 12184.3301\n",
      "Epoch 73/100\n",
      "30/30 [==============================] - 0s 1ms/sample - loss: 2645.2441 - mean_squared_error: 2645.2444 - val_loss: 12131.6897 - val_mean_squared_error: 12131.6895\n",
      "Epoch 74/100\n",
      "30/30 [==============================] - 0s 982us/sample - loss: 2439.2587 - mean_squared_error: 2439.2588 - val_loss: 12211.4500 - val_mean_squared_error: 12211.4492\n",
      "Epoch 75/100\n",
      "30/30 [==============================] - 0s 1ms/sample - loss: 2469.2834 - mean_squared_error: 2469.2830 - val_loss: 12290.1481 - val_mean_squared_error: 12290.1484\n",
      "Epoch 76/100\n",
      "30/30 [==============================] - 0s 1ms/sample - loss: 2384.6111 - mean_squared_error: 2384.6108 - val_loss: 12098.6626 - val_mean_squared_error: 12098.6631\n",
      "Epoch 77/100\n",
      "30/30 [==============================] - 0s 1ms/sample - loss: 2438.1466 - mean_squared_error: 2438.1462 - val_loss: 12105.4719 - val_mean_squared_error: 12105.4727\n",
      "Epoch 78/100\n",
      "30/30 [==============================] - 0s 1ms/sample - loss: 2355.1955 - mean_squared_error: 2355.1956 - val_loss: 12013.9325 - val_mean_squared_error: 12013.9326\n",
      "Epoch 79/100\n",
      "30/30 [==============================] - 0s 1ms/sample - loss: 2298.2637 - mean_squared_error: 2298.2634 - val_loss: 12222.6388 - val_mean_squared_error: 12222.6387\n",
      "Epoch 80/100\n",
      "30/30 [==============================] - 0s 1ms/sample - loss: 2334.7941 - mean_squared_error: 2334.7939 - val_loss: 12181.0476 - val_mean_squared_error: 12181.0469\n",
      "Epoch 81/100\n",
      "30/30 [==============================] - 0s 1ms/sample - loss: 2278.6287 - mean_squared_error: 2278.6287 - val_loss: 12274.8902 - val_mean_squared_error: 12274.8906\n",
      "Epoch 82/100\n",
      "30/30 [==============================] - 0s 1ms/sample - loss: 2319.6824 - mean_squared_error: 2319.6824 - val_loss: 12298.2083 - val_mean_squared_error: 12298.2080\n",
      "Epoch 83/100\n",
      "30/30 [==============================] - 0s 1ms/sample - loss: 2237.6220 - mean_squared_error: 2237.6218 - val_loss: 12330.9923 - val_mean_squared_error: 12330.9922\n",
      "Epoch 84/100\n",
      "30/30 [==============================] - 0s 934us/sample - loss: 2239.0052 - mean_squared_error: 2239.0054 - val_loss: 12224.8173 - val_mean_squared_error: 12224.8174\n",
      "Epoch 85/100\n",
      "30/30 [==============================] - 0s 968us/sample - loss: 2191.9731 - mean_squared_error: 2191.9731 - val_loss: 12574.4930 - val_mean_squared_error: 12574.4932\n",
      "Epoch 86/100\n",
      "30/30 [==============================] - 0s 1ms/sample - loss: 2169.1921 - mean_squared_error: 2169.1921 - val_loss: 12293.7523 - val_mean_squared_error: 12293.7520\n",
      "Epoch 87/100\n",
      "30/30 [==============================] - 0s 1ms/sample - loss: 2156.2019 - mean_squared_error: 2156.2019 - val_loss: 12413.7878 - val_mean_squared_error: 12413.7881\n",
      "Epoch 88/100\n",
      "30/30 [==============================] - 0s 993us/sample - loss: 2169.4922 - mean_squared_error: 2169.4922 - val_loss: 12375.2384 - val_mean_squared_error: 12375.2393\n",
      "Epoch 89/100\n",
      "30/30 [==============================] - 0s 1ms/sample - loss: 2185.8725 - mean_squared_error: 2185.8723 - val_loss: 12419.6481 - val_mean_squared_error: 12419.6484\n",
      "Epoch 90/100\n",
      "30/30 [==============================] - 0s 926us/sample - loss: 2278.7441 - mean_squared_error: 2278.7439 - val_loss: 12659.7437 - val_mean_squared_error: 12659.7441\n",
      "Epoch 91/100\n",
      "30/30 [==============================] - 0s 978us/sample - loss: 2329.5260 - mean_squared_error: 2329.5261 - val_loss: 12381.0734 - val_mean_squared_error: 12381.0732\n"
     ]
    },
    {
     "name": "stdout",
     "output_type": "stream",
     "text": [
      "Epoch 92/100\n",
      "30/30 [==============================] - 0s 1ms/sample - loss: 2092.6909 - mean_squared_error: 2092.6909 - val_loss: 12440.7200 - val_mean_squared_error: 12440.7197\n",
      "Epoch 93/100\n",
      "30/30 [==============================] - 0s 996us/sample - loss: 2056.7467 - mean_squared_error: 2056.7468 - val_loss: 12691.0457 - val_mean_squared_error: 12691.0459\n",
      "Epoch 94/100\n",
      "30/30 [==============================] - 0s 935us/sample - loss: 2014.1195 - mean_squared_error: 2014.1195 - val_loss: 12605.1469 - val_mean_squared_error: 12605.1465\n",
      "Epoch 95/100\n",
      "30/30 [==============================] - 0s 914us/sample - loss: 2037.3724 - mean_squared_error: 2037.3723 - val_loss: 12213.7807 - val_mean_squared_error: 12213.7803\n",
      "Epoch 96/100\n",
      "30/30 [==============================] - 0s 997us/sample - loss: 2023.8784 - mean_squared_error: 2023.8784 - val_loss: 12734.7871 - val_mean_squared_error: 12734.7871\n",
      "Epoch 97/100\n",
      "30/30 [==============================] - 0s 1ms/sample - loss: 2010.9240 - mean_squared_error: 2010.9241 - val_loss: 12712.1460 - val_mean_squared_error: 12712.1465\n",
      "Epoch 98/100\n",
      "30/30 [==============================] - 0s 1ms/sample - loss: 1989.7062 - mean_squared_error: 1989.7063 - val_loss: 12615.9065 - val_mean_squared_error: 12615.9062\n",
      "Epoch 99/100\n",
      "30/30 [==============================] - 0s 995us/sample - loss: 1940.2196 - mean_squared_error: 1940.2198 - val_loss: 12652.9856 - val_mean_squared_error: 12652.9854\n",
      "Epoch 100/100\n",
      "30/30 [==============================] - 0s 967us/sample - loss: 1963.7065 - mean_squared_error: 1963.7065 - val_loss: 12560.8549 - val_mean_squared_error: 12560.8555\n"
     ]
    }
   ],
   "source": [
    "training = model.fit(X_trn_norm, y_trn, batch_size=2, epochs=100,\n",
    "                    verbose=1, validation_split=0.2)"
   ]
  },
  {
   "cell_type": "markdown",
   "metadata": {},
   "source": [
    "## Evaluate the model\n",
    "Using ***Root mean squared error***.  \n",
    "* Find mean squared error between the predicted and actual values\n",
    "* Find the square root of the mean squared error  "
   ]
  },
  {
   "cell_type": "code",
   "execution_count": 7,
   "metadata": {},
   "outputs": [
    {
     "name": "stdout",
     "output_type": "stream",
     "text": [
      "Training error: 64.27488983009766\n",
      "Test error: 98.91566153871884\n"
     ]
    }
   ],
   "source": [
    "from sklearn.metrics import mean_squared_error\n",
    "import numpy as np\n",
    "\n",
    "pred_trn = model.predict(X_trn_norm)\n",
    "err_trn = np.sqrt(mean_squared_error(y_trn, pred_trn))\n",
    "print('Training error:', err_trn)\n",
    "\n",
    "pred = model.predict(X_tst_norm)\n",
    "err = np.sqrt(mean_squared_error(y_tst, pred))\n",
    "print('Test error:', err)"
   ]
  }
 ],
 "metadata": {
  "kernelspec": {
   "display_name": "Python 3",
   "language": "python",
   "name": "python3"
  },
  "language_info": {
   "codemirror_mode": {
    "name": "ipython",
    "version": 3
   },
   "file_extension": ".py",
   "mimetype": "text/x-python",
   "name": "python",
   "nbconvert_exporter": "python",
   "pygments_lexer": "ipython3",
   "version": "3.7.0"
  }
 },
 "nbformat": 4,
 "nbformat_minor": 2
}
